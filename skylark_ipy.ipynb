{
 "cells": [
  {
   "cell_type": "markdown",
   "metadata": {},
   "source": [
    "# Imports"
   ]
  },
  {
   "cell_type": "code",
   "execution_count": 26,
   "metadata": {},
   "outputs": [],
   "source": [
    "from PIL import Image\n",
    "from PIL.ExifTags import TAGS\n",
    "import glob\n",
    "import os\n",
    "import simplekml"
   ]
  },
  {
   "cell_type": "markdown",
   "metadata": {},
   "source": [
    "# Taking dataset folder name"
   ]
  },
  {
   "cell_type": "code",
   "execution_count": 27,
   "metadata": {},
   "outputs": [
    {
     "name": "stdout",
     "output_type": "stream",
     "text": [
      "Is this script in the same folder as image dataset (y/n) :y\n"
     ]
    }
   ],
   "source": [
    "s=input(\"Is this script in the same folder as image dataset (y/n) :\")\n",
    "if(s=='n'):\n",
    "    folder=input(\"Input the folder containing images of dataset eg: folder/containing/images:\\n\")\n",
    "    os.chdir(folder)"
   ]
  },
  {
   "cell_type": "markdown",
   "metadata": {
    "collapsed": true
   },
   "source": [
    "# Adding exif data to the dictionary data"
   ]
  },
  {
   "cell_type": "code",
   "execution_count": 32,
   "metadata": {
    "scrolled": false
   },
   "outputs": [
    {
     "name": "stdout",
     "output_type": "stream",
     "text": [
      "1 accessible image(s) found\n",
      "0 image(s) had no exif data\n"
     ]
    }
   ],
   "source": [
    "acc=0 #Number of accessed images\n",
    "nd=0 #Number of images with no exif data\n",
    "data={}\n",
    "data['name']=[]\n",
    "for img_name in glob.glob('*.JPG'):\n",
    "    try:\n",
    "        img=Image.open(img_name)\n",
    "        info=img._getexif()\n",
    "        #checking if exif data is present\n",
    "        if info:\n",
    "            data['name'].append(img_name)\n",
    "            for (tag,value) in info.items():\n",
    "                try:\n",
    "                    len(value)\n",
    "                    value=value[:40]\n",
    "                except:\n",
    "                    pass\n",
    "                if not value:\n",
    "                    if value!=0:value=\"Na\"\n",
    "                tagname=TAGS.get(tag,tag)\n",
    "                if tagname in data.keys():\n",
    "                    data[tagname].append(value)\n",
    "                else:data[tagname]=['Na']*acc+[value]\n",
    "        else:nd+=1;\n",
    "        for item in data:\n",
    "            try:data[item][acc]\n",
    "            except:data[item].append(\"Na\")\n",
    "        acc+=1\n",
    "    except:pass\n",
    "print(acc,\"accessible image(s) found\")\n",
    "print(nd,\"image(s) had no exif data\")"
   ]
  },
  {
   "cell_type": "markdown",
   "metadata": {
    "collapsed": true
   },
   "source": [
    "# Writing dictionary data to output csv file"
   ]
  },
  {
   "cell_type": "code",
   "execution_count": 23,
   "metadata": {},
   "outputs": [
    {
     "name": "stdout",
     "output_type": "stream",
     "text": [
      "Give the output csv and kml files' name (eg :output) :out1\n",
      "Data written to out1.csv file in same folder as dataset which can be opened with <tab> as delimiter\n"
     ]
    }
   ],
   "source": [
    "output=input(\"Give the output csv and kml files' name (eg :output) :\")\n",
    "open(output+'.csv', 'w').close() #create/clear the output.csv file\n",
    "os.getcwd()\n",
    "for item in data:\n",
    "    with open(output+'.csv','a') as f:\n",
    "        f.write(str(item))\n",
    "        for i in data[item]:\n",
    "            f.write(\"\\t\")\n",
    "            f.write(str(i))\n",
    "    with open(output+'.csv','a') as f:\n",
    "        f.write('\\n')\n",
    "print(\"Data written to\",output+\".csv file in same folder as dataset which can be opened with <tab> as delimiter\")"
   ]
  },
  {
   "cell_type": "markdown",
   "metadata": {
    "collapsed": true
   },
   "source": [
    "# Function to get coordinates from gps info dictionary of image"
   ]
  },
  {
   "cell_type": "code",
   "execution_count": 24,
   "metadata": {
    "collapsed": true
   },
   "outputs": [],
   "source": [
    "def gps_cords(gpsdict):\n",
    "    lat=lon=0.0\n",
    "    d=1\n",
    "    for pair in gpsdict[2]:\n",
    "        lat+=(float(pair[0])/pair[1])/d\n",
    "        d*=60\n",
    "    d=1\n",
    "    for pair in gpsdict[4]:\n",
    "        lon+=(float(pair[0])/pair[1])/d\n",
    "        d*=60\n",
    "    if (gpsdict[1]!='N') :lat=0-lat\n",
    "    if (gpsdict[3]!='E') :lon=0-lon\n",
    "    try:\n",
    "        alt=gpsdict[6]\n",
    "        try:\n",
    "            if (gpsdict[5]==1):alt=0-alt\n",
    "        except:pass\n",
    "    except:alt=0\n",
    "    return (lon,lat,alt)"
   ]
  },
  {
   "cell_type": "markdown",
   "metadata": {},
   "source": [
    "# Converting GPSInfo of images into latitudes and longitudes and  Mapping of images to points in output kml file"
   ]
  },
  {
   "cell_type": "code",
   "execution_count": 25,
   "metadata": {},
   "outputs": [
    {
     "name": "stdout",
     "output_type": "stream",
     "text": [
      "Do you want to differentiate images based on their brightness? (y/n): y\n",
      "Input Brightness threshold :9.8\n",
      "Yellow pins on map represents positive images ie., brightness value greater than threshold value and red pins represents negative images for given threshold brightness value of 9.8\n",
      "Images are mapped to out1.kml\n"
     ]
    }
   ],
   "source": [
    "diff=input(\"Do you want to differentiate images based on their brightness? (y/n): \")\n",
    "kml=simplekml.Kml() #create new kml datatype   \n",
    "names=data['name']\n",
    "if (diff=='n' or diff=='N'):\n",
    "    for i_no in range(acc-nd):\n",
    "        point=data['GPSInfo'][i_no]\n",
    "        if point==\"Na\":continue\n",
    "        else:\n",
    "            cord=gps_cords(point)\n",
    "            pt=kml.newpoint(name=names[i_no][:-4],coords=[cord])\n",
    "            path =os.getcwd()+'\\\\'+names[i_no][:-3]+'jpg'\n",
    "            path=kml.addfile(path)\n",
    "            #pt.style.balloonstyle.text = \"<![CDATA[ <table width=100% cellpadding=0 cellspacing=0> <tr><td><img width=100% src='\" + path + \"' /></td></tr></table>]]>\"\n",
    "            pt.description = '<img src=\"' + names[i_no] +'\" alt=\"picture\" width=\"400\" height=\"300\" align=\"left\"/>'\n",
    "else:\n",
    "    tres=float(input(\"Input Brightness threshold :\"))\n",
    "    for i_no in range(acc-nd):\n",
    "        point=data['GPSInfo'][i_no]\n",
    "        if point==\"Na\":continue\n",
    "        else:\n",
    "            cord=(gps_cords(point))\n",
    "            pt=kml.newpoint(name=names[i_no][:-4],coords=[cord])\n",
    "            if(data['BrightnessValue'][i_no][0]<tres*data['BrightnessValue'][i_no][1]):\n",
    "                pt.style.labelstyle.color = 'ff0000ff' #red points\n",
    "                pt.style.iconstyle.color = 'ff0000ff' #red points\n",
    "            else:pass\n",
    "            pt.description = '<img src=\"' + names[i_no] +'\" alt=\"picture\" width=\"400\" height=\"300\" align=\"left\"/>'\n",
    "    print(\"Yellow pins on map represents positive images ie., brightness value greater than threshold value and red pins represents negative images for given threshold brightness value of\",tres)\n",
    "kml.save(output+'.kml')\n",
    "print('Images are mapped to',output+'.kml')"
   ]
  },
  {
   "cell_type": "code",
   "execution_count": null,
   "metadata": {
    "collapsed": true
   },
   "outputs": [],
   "source": []
  }
 ],
 "metadata": {
  "kernelspec": {
   "display_name": "Python 3",
   "language": "python",
   "name": "python3"
  },
  "language_info": {
   "codemirror_mode": {
    "name": "ipython",
    "version": 3
   },
   "file_extension": ".py",
   "mimetype": "text/x-python",
   "name": "python",
   "nbconvert_exporter": "python",
   "pygments_lexer": "ipython3",
   "version": "3.6.3"
  }
 },
 "nbformat": 4,
 "nbformat_minor": 2
}
